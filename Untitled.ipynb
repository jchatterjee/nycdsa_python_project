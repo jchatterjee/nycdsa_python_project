{
 "cells": [
  {
   "cell_type": "code",
   "execution_count": 1,
   "id": "04ca2bd8",
   "metadata": {},
   "outputs": [
    {
     "data": {
      "image/png": "[encoded data removed]",
      "text/plain": [
       "<Figure size 432x288 with 1 Axes>"
      ]
     },
     "metadata": {
      "needs_background": "light"
     },
     "output_type": "display_data"
    }
   ],
   "source": [
    "import matplotlib.pyplot as plt\n",
    "import numpy as np\n",
    "import pandas as pd\n",
    "\n",
    "population = np.random.rand(100)\n",
    "Area = np.random.randint(100,600,100)\n",
    "continent =['North America','Europe', 'Asia', 'Australia']*25\n",
    "\n",
    "df = pd.DataFrame(dict(population=population, Area=Area, continent = continent))\n",
    "\n",
    "fig, ax = plt.subplots()\n",
    "\n",
    "colors = {'North America':'red', 'Europe':'green', 'Asia':'blue', 'Australia':'yellow'}\n",
    "\n",
    "\n",
    "ax.scatter(df['population'], df['Area'], c=df['continent'].map(colors))\n",
    "\n",
    "plt.show()"
   ]
  },
  {
   "cell_type": "code",
   "execution_count": 2,
   "id": "a3e99d8a",
   "metadata": {},
   "outputs": [
    {
     "data": {
      "text/html": [
       "<div>\n",
       "<style scoped>\n",
       "    .dataframe tbody tr th:only-of-type {\n",
       "        vertical-align: middle;\n",
       "    }\n",
       "\n",
       "    .dataframe tbody tr th {\n",
       "        vertical-align: top;\n",
       "    }\n",
       "\n",
       "    .dataframe thead th {\n",
       "        text-align: right;\n",
       "    }\n",
       "</style>\n",
       "<table border=\"1\" class=\"dataframe\">\n",
       "  <thead>\n",
       "    <tr style=\"text-align: right;\">\n",
       "      <th></th>\n",
       "      <th>population</th>\n",
       "      <th>Area</th>\n",
       "      <th>continent</th>\n",
       "    </tr>\n",
       "  </thead>\n",
       "  <tbody>\n",
       "    <tr>\n",
       "      <th>0</th>\n",
       "      <td>0.858185</td>\n",
       "      <td>118</td>\n",
       "      <td>North America</td>\n",
       "    </tr>\n",
       "    <tr>\n",
       "      <th>1</th>\n",
       "      <td>0.985892</td>\n",
       "      <td>528</td>\n",
       "      <td>Europe</td>\n",
       "    </tr>\n",
       "    <tr>\n",
       "      <th>2</th>\n",
       "      <td>0.942424</td>\n",
       "      <td>375</td>\n",
       "      <td>Asia</td>\n",
       "    </tr>\n",
       "    <tr>\n",
       "      <th>3</th>\n",
       "      <td>0.570698</td>\n",
       "      <td>387</td>\n",
       "      <td>Australia</td>\n",
       "    </tr>\n",
       "    <tr>\n",
       "      <th>4</th>\n",
       "      <td>0.417304</td>\n",
       "      <td>553</td>\n",
       "      <td>North America</td>\n",
       "    </tr>\n",
       "    <tr>\n",
       "      <th>...</th>\n",
       "      <td>...</td>\n",
       "      <td>...</td>\n",
       "      <td>...</td>\n",
       "    </tr>\n",
       "    <tr>\n",
       "      <th>95</th>\n",
       "      <td>0.763898</td>\n",
       "      <td>347</td>\n",
       "      <td>Australia</td>\n",
       "    </tr>\n",
       "    <tr>\n",
       "      <th>96</th>\n",
       "      <td>0.603403</td>\n",
       "      <td>103</td>\n",
       "      <td>North America</td>\n",
       "    </tr>\n",
       "    <tr>\n",
       "      <th>97</th>\n",
       "      <td>0.037155</td>\n",
       "      <td>354</td>\n",
       "      <td>Europe</td>\n",
       "    </tr>\n",
       "    <tr>\n",
       "      <th>98</th>\n",
       "      <td>0.362438</td>\n",
       "      <td>332</td>\n",
       "      <td>Asia</td>\n",
       "    </tr>\n",
       "    <tr>\n",
       "      <th>99</th>\n",
       "      <td>0.557622</td>\n",
       "      <td>479</td>\n",
       "      <td>Australia</td>\n",
       "    </tr>\n",
       "  </tbody>\n",
       "</table>\n",
       "<p>100 rows × 3 columns</p>\n",
       "</div>"
      ],
      "text/plain": [
       "    population  Area      continent\n",
       "0     0.858185   118  North America\n",
       "1     0.985892   528         Europe\n",
       "2     0.942424   375           Asia\n",
       "3     0.570698   387      Australia\n",
       "4     0.417304   553  North America\n",
       "..         ...   ...            ...\n",
       "95    0.763898   347      Australia\n",
       "96    0.603403   103  North America\n",
       "97    0.037155   354         Europe\n",
       "98    0.362438   332           Asia\n",
       "99    0.557622   479      Australia\n",
       "\n",
       "[100 rows x 3 columns]"
      ]
     },
     "execution_count": 2,
     "metadata": {},
     "output_type": "execute_result"
    }
   ],
   "source": [
    "df"
   ]
  },
  {
   "cell_type": "code",
   "execution_count": 3,
   "id": "d897eb51",
   "metadata": {},
   "outputs": [
    {
     "data": {
      "text/plain": [
       "0     North America\n",
       "1            Europe\n",
       "2              Asia\n",
       "3         Australia\n",
       "4     North America\n",
       "          ...      \n",
       "95        Australia\n",
       "96    North America\n",
       "97           Europe\n",
       "98             Asia\n",
       "99        Australia\n",
       "Name: continent, Length: 100, dtype: object"
      ]
     },
     "execution_count": 3,
     "metadata": {},
     "output_type": "execute_result"
    }
   ],
   "source": [
    "df['continent']"
   ]
  },
  {
   "cell_type": "code",
   "execution_count": null,
   "id": "6694e008",
   "metadata": {},
   "outputs": [],
   "source": []
  }
 ],
 "metadata": {
  "kernelspec": {
   "display_name": "Python 3 (ipykernel)",
   "language": "python",
   "name": "python3"
  },
  "language_info": {
   "codemirror_mode": {
    "name": "ipython",
    "version": 3
   },
   "file_extension": ".py",
   "mimetype": "text/x-python",
   "name": "python",
   "nbconvert_exporter": "python",
   "pygments_lexer": "ipython3",
   "version": "3.9.7"
  }
 },
 "nbformat": 4,
 "nbformat_minor": 5
}
